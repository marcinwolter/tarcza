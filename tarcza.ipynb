{
  "nbformat": 4,
  "nbformat_minor": 0,
  "metadata": {
    "colab": {
      "provenance": [],
      "authorship_tag": "ABX9TyPb6/97Hwbq9anYWXc7AHhh",
      "include_colab_link": true
    },
    "kernelspec": {
      "name": "python3",
      "display_name": "Python 3"
    },
    "language_info": {
      "name": "python"
    }
  },
  "cells": [
    {
      "cell_type": "markdown",
      "metadata": {
        "id": "view-in-github",
        "colab_type": "text"
      },
      "source": [
        "<a href=\"https://colab.research.google.com/github/marcinwolter/tarcza/blob/main/tarcza.ipynb\" target=\"_parent\"><img src=\"https://colab.research.google.com/assets/colab-badge.svg\" alt=\"Open In Colab\"/></a>"
      ]
    },
    {
      "cell_type": "markdown",
      "source": [
        "### **Rekonstrukcja współrzędnych punktu trafienia w tarczę**\n",
        "*Marcin Wolter*\n",
        "\n",
        "*29.12.2024*\n",
        "\n",
        "Tarcza ma promień *radius*, cztery mikrofony rozmieszczone są w odległości *R_mic* od środka tarczy. Generowane jest *num_points* trafień w tarczę. Dodany jest błąd pomiaru czasu.\n",
        "\n",
        "Rekonstrukcja punktu trafienia przeprowadzana jest na dwa sposoby:\n",
        "* algebraiczny, rozwiązanie układu równań za pomocą *scipy.optimize.fsolve*. Uzyskujemy cztery rozwiązania, wyciągamy z nich średnią.\n",
        "UWAGA! Zamiast używać numerycznego rozwiązania równań *fsolve* należy rozwiązać je algebraicznie (da się zrobić).\n",
        "* za pomocą sieci neuronowej, która rekonstruuje punkt trafienia na podstawie czasów zarejestrowanych przez mikrofony."
      ],
      "metadata": {
        "id": "jr9EBAfW2rA3"
      }
    },
    {
      "cell_type": "code",
      "execution_count": 6,
      "metadata": {
        "id": "wjjaybRKmoDE"
      },
      "outputs": [],
      "source": [
        "# prompt: random points on a plane within the radius R\n",
        "\n",
        "import random\n",
        "import numpy as np\n",
        "from scipy.optimize import fsolve\n",
        "\n",
        "from sklearn.neural_network import MLPRegressor\n",
        "import sklearn\n",
        "from sklearn.model_selection import train_test_split\n",
        "import pandas as pd\n",
        "import pickle\n",
        "\n",
        "\n",
        "# speed of sound\n",
        "v_s = 34000 # cm/s\n"
      ]
    },
    {
      "cell_type": "code",
      "source": [
        "# algebraic calculation\n",
        "\n",
        "def algebraic_calc(out_meas, R_mic):\n",
        "\n",
        "  out_pred = np.zeros((len(out_meas),2))\n",
        "  for i in range(len(out_meas)):\n",
        "\n",
        "    t0 = out_meas[i]\n",
        "\n",
        "    #Calculate three crossing points and take an average\n",
        "    def equations(vars, R, d0, d1, d2, d3, i_drop):\n",
        "      x, y, d = vars\n",
        "      eq0 = (x - R)**2 + y**2 - (d0+d)**2\n",
        "      eq1 = x**2 + (y + R)**2 - (d1+d)**2\n",
        "      eq2 = (x + R)**2 + y**2 - (d2+d)**2\n",
        "      eq3 = x**2 + (y - R)**2 - (d3+d)**2\n",
        "      if i_drop == 0:\n",
        "        return [eq1, eq2, eq3]\n",
        "      elif i_drop == 1:\n",
        "        return [eq0, eq2, eq3]\n",
        "      elif i_drop == 2:\n",
        "        return [eq0, eq1, eq3]\n",
        "      return [eq0, eq1, eq2]\n",
        "\n",
        "    # Calculate distances\n",
        "    dd0 = v_s * t0\n",
        "\n",
        "    # Initial guess for (x, y, d)\n",
        "    initial_guess = (0, 0, 0)\n",
        "\n",
        "    # Solve the system of equations\n",
        "    x_out = np.zeros((len(t0),2))\n",
        "    for k in range(len(t0)):\n",
        "      x, y, d = fsolve(equations, initial_guess, args=(R_mic, dd0[0], dd0[1], dd0[2], dd0[3], k))\n",
        "      x_out[k,0] = -y\n",
        "      x_out[k,1] = x\n",
        "    x_mean = np.mean(x_out, axis=0)\n",
        "\n",
        "    out_pred[i,0] = x_mean[0]\n",
        "    out_pred[i,1] = x_mean[1]\n",
        "\n",
        "  return out_pred\n"
      ],
      "metadata": {
        "id": "Jt5FtBlIGoHn"
      },
      "execution_count": 7,
      "outputs": []
    },
    {
      "cell_type": "code",
      "source": [
        "def monte_carlo_circle(R, R_mic, time_error, num_points):\n",
        "    \"\"\"\n",
        "    Points within a circle of radius R using Monte Carlo simulation.\n",
        "\n",
        "    Args:\n",
        "        R: The radius of the circle.\n",
        "        num_points: The number of random points to generate.\n",
        "\n",
        "    Returns:\n",
        "        A tuple containing:\n",
        "            - x, y of the true points\n",
        "            - four times measured (one is zero)\n",
        "            - rotation flag\n",
        "    \"\"\"\n",
        "    # microphone positions\n",
        "    xy_mic = np.array([[0, R_mic], [R_mic, 0], [0, -R_mic], [-R_mic,0]])\n",
        "    time = np.zeros((4))\n",
        "\n",
        "    out_true = np.zeros((num_points, 2))\n",
        "    out_measured = np.zeros((num_points, 4))\n",
        "    rot_flag = np.zeros((num_points))\n",
        "    inside_circle = 0\n",
        "\n",
        "    while inside_circle < num_points:\n",
        "        x = random.uniform(-R, R)\n",
        "        y = random.uniform(-R, R)\n",
        "        distance2 = x*x + y*y\n",
        "        if distance2 <= R*R:\n",
        "          for i in range(4):\n",
        "            time[i] = np.sqrt((xy_mic[i,0]-x)**2 + (xy_mic[i,1]-y)**2)/v_s\n",
        "            # introduce error\n",
        "            time[i] = max(0,time[i]+random.gauss(0,time_error))\n",
        "\n",
        "          i_min = np.argmin(time)\n",
        "\n",
        "          for k in range(4):\n",
        "            out_measured[inside_circle, k] = time[k]-time[i_min]\n",
        "          rot_flag[inside_circle] = i_min\n",
        "\n",
        "          out_true[inside_circle, 0] = x\n",
        "          out_true[inside_circle, 1] = y\n",
        "\n",
        "          inside_circle += 1\n",
        "          #print(f\"point: {x, y, inside_circle}\")\n",
        "\n",
        "\n",
        "\n",
        "    return out_true, out_measured, rot_flag\n",
        "\n"
      ],
      "metadata": {
        "id": "0zXw3yqCAOhG"
      },
      "execution_count": 8,
      "outputs": []
    },
    {
      "cell_type": "code",
      "source": [
        "# neural network regression out_measured -> out_true\n",
        "def regression(out_measured, out_true):\n",
        "    X_train, X_test, y_train, y_test = train_test_split(out_measured, out_true,\n",
        "                                                    random_state=1)\n",
        "\n",
        "    #see https://scikit-learn.org/1.6/modules/generated/sklearn.neural_network.MLPRegressor.html\n",
        "    regr = MLPRegressor(hidden_layer_sizes=(30,30), activation='relu', solver='adam',\n",
        "                        alpha=0.0001, batch_size='auto', learning_rate='adaptive',\n",
        "                        learning_rate_init=0.001, random_state=33, tol=0.0001,\n",
        "                        verbose=False, warm_start=False, momentum=0.9, nesterovs_momentum=True,\n",
        "                        early_stopping=True, validation_fraction=0.2, n_iter_no_change=100,\n",
        "                        max_iter = 10000)\n",
        "    regr.fit(X_train, y_train)\n",
        "\n",
        "    print(\"Regression score: \",regr.score(X_test, y_test))\n",
        "\n",
        "    return regr\n"
      ],
      "metadata": {
        "id": "B0HixMWq70zC"
      },
      "execution_count": 9,
      "outputs": []
    },
    {
      "cell_type": "code",
      "source": [
        "# Example usage:\n",
        "radius = 5.0  # Set the radius of the circle\n",
        "num_points = 10000 # 10000  # Set the number of random points\n",
        "R_mic = 7.\n",
        "time_error = 0.000005 # 0.00001\n",
        "\n",
        "out_true, out_meas, rot_flag = monte_carlo_circle(radius, R_mic, time_error, num_points)\n",
        "#print(f\"true: {out_true[0:4]}\")\n",
        "#print(f\"meas: {out_meas[0:4]}\")\n",
        "#print(f\"rot: {rot_flag[0:4]}\")\n",
        "#print(out_true.shape, out_meas.shape, rot_flag.shape)\n",
        "\n",
        "# algebraic calculation\n",
        "out_pred = algebraic_calc(out_meas, R_mic)\n",
        "\n",
        "print(\"Algebraic calculation\")\n",
        "print(\"true: \")\n",
        "print(out_true[0:4])\n",
        "print(\"predicted:\")\n",
        "print(out_pred[0:4])\n",
        "print(\"Algebraic calc score: \",sklearn.metrics.r2_score(out_true, out_pred))\n",
        "print(\" \")\n",
        "\n",
        "\n",
        "\n",
        "#Regression using neural network\n",
        "print(\"Neural network\")\n",
        "regr = regression(out_meas, out_true)\n",
        "\n",
        "\n",
        "# Plot the 'loss_curve_' protery on model to see how well we are learning over the iterations\n",
        "pd.DataFrame(regr.loss_curve_).plot()\n",
        "\n",
        "# save the model to disk\n",
        "#filename = 'regr_model.sav'\n",
        "#pickle.dump(regr, open(filename, 'wb'))\n",
        "\n",
        "# load the model from disk\n",
        "#regr = pickle.load(open(filename, 'rb'))\n",
        "\n",
        "# Test regressor on the new data\n",
        "out_true, out_meas, rot_flag = monte_carlo_circle(radius, R_mic, time_error, num_points)\n",
        "predicted = regr.predict(out_meas)\n",
        "\n",
        "print(\"true: \")\n",
        "print(out_true[0:4])\n",
        "print(\"predicted:\")\n",
        "print(predicted[0:4])\n",
        "print(\"Regression score: \",regr.score(out_meas, out_true))"
      ],
      "metadata": {
        "colab": {
          "base_uri": "https://localhost:8080/",
          "height": 892
        },
        "id": "1DsU4BizxAdX",
        "outputId": "fdff49ab-a141-4104-a0e4-0d053f02ecbb"
      },
      "execution_count": 10,
      "outputs": [
        {
          "output_type": "stream",
          "name": "stdout",
          "text": [
            "Algebraic calculation\n",
            "true: \n",
            "[[ 3.13674066 -0.08425492]\n",
            " [ 1.43375153 -0.29787095]\n",
            " [ 0.99696156  4.68316838]\n",
            " [ 0.5732117   1.10377223]]\n",
            "predicted:\n",
            "[[ 3.2597144  -0.11531081]\n",
            " [ 1.22860696 -0.30172662]\n",
            " [ 0.96619655  4.80103511]\n",
            " [ 0.62542795  1.31341033]]\n",
            "Algebraic calc score:  0.9967647672743283\n",
            " \n",
            "Neural network\n",
            "Regression score:  0.9955577119481265\n",
            "true: \n",
            "[[-4.65759033  0.00631664]\n",
            " [-3.5313178   1.92358364]\n",
            " [ 3.69190561  1.57255273]\n",
            " [ 0.79768932  3.27314335]]\n",
            "predicted:\n",
            "[[-4.72711659 -0.1194396 ]\n",
            " [-3.65203839  1.62125613]\n",
            " [ 3.78855213  1.28596554]\n",
            " [ 0.52531779  3.43554024]]\n",
            "Regression score:  0.9956090858866261\n"
          ]
        },
        {
          "output_type": "display_data",
          "data": {
            "text/plain": [
              "<Figure size 640x480 with 1 Axes>"
            ],
            "image/png": "[encoded data removed]"
          },
          "metadata": {}
        }
      ]
    }
  ]
}